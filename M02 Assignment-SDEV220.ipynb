{
 "cells": [
  {
   "cell_type": "code",
   "execution_count": 5,
   "id": "eda08df5",
   "metadata": {},
   "outputs": [
    {
     "name": "stdout",
     "output_type": "stream",
     "text": [
      "Enter your number:8\n",
      "just right\n"
     ]
    }
   ],
   "source": [
    "secret = int(input(\"Enter your number:\" )) #Asks the user for a number\n",
    "guess = 8 \n",
    "if secret < guess:\n",
    "    print(\"too low\")\n",
    "elif secret > guess:\n",
    "    print(\"too high\")\n",
    "else:\n",
    "    print(\"just right\")\n",
    "    \n",
    "# Question 4.1"
   ]
  },
  {
   "cell_type": "code",
   "execution_count": 6,
   "id": "54184736",
   "metadata": {},
   "outputs": [
    {
     "name": "stdout",
     "output_type": "stream",
     "text": [
      "pumpkin\n"
     ]
    }
   ],
   "source": [
    "# Question 4.2 \n",
    "small = False\n",
    "green = False\n",
    "\n",
    "if small:\n",
    "    if green:\n",
    "        print(\"pea\")\n",
    "    else:\n",
    "        print(\"cherry\")\n",
    "else:\n",
    "    if green:\n",
    "        print(\"watermelon\")\n",
    "    else:\n",
    "        print(\"pumpkin\")"
   ]
  },
  {
   "cell_type": "code",
   "execution_count": 7,
   "id": "6fde77c1",
   "metadata": {},
   "outputs": [
    {
     "name": "stdout",
     "output_type": "stream",
     "text": [
      "3\n",
      "2\n",
      "1\n",
      "0\n"
     ]
    }
   ],
   "source": [
    "# Question 6.1 \n",
    "numbers = [3,2,1,0]\n",
    "for number in numbers:\n",
    "    print(number)"
   ]
  },
  {
   "cell_type": "code",
   "execution_count": 8,
   "id": "55fa7599",
   "metadata": {},
   "outputs": [
    {
     "name": "stdout",
     "output_type": "stream",
     "text": [
      "too low\n",
      "too low\n",
      "too low\n",
      "too low\n",
      "too low\n",
      "too low\n",
      "found it!\n"
     ]
    }
   ],
   "source": [
    "# Question 6.2 \n",
    "guess_me = 7\n",
    "number = 1\n",
    "\n",
    "while number != guess_me:\n",
    "    if number < guess_me:\n",
    "        print(\"too low\")\n",
    "    elif number > guess_me:\n",
    "        print(\"oops\")\n",
    "    number += 1\n",
    "print(\"found it!\")"
   ]
  },
  {
   "cell_type": "code",
   "execution_count": 10,
   "id": "c0af5520",
   "metadata": {},
   "outputs": [
    {
     "name": "stdout",
     "output_type": "stream",
     "text": [
      "too low\n",
      "too low\n",
      "too low\n",
      "too low\n",
      "too low\n",
      "Found it!\n"
     ]
    }
   ],
   "source": [
    "# Question 6.3 \n",
    "guess_me = 5\n",
    "for number in range(10):\n",
    "    if number < guess_me:\n",
    "        print(\"too low\")\n",
    "    elif number == guess_me:\n",
    "        print(\"Found it!\")\n",
    "        break \n",
    "    else:\n",
    "        print(\"oops\")\n",
    "        break "
   ]
  },
  {
   "cell_type": "code",
   "execution_count": null,
   "id": "61e3cf9c",
   "metadata": {},
   "outputs": [],
   "source": []
  }
 ],
 "metadata": {
  "kernelspec": {
   "display_name": "Python 3 (ipykernel)",
   "language": "python",
   "name": "python3"
  },
  "language_info": {
   "codemirror_mode": {
    "name": "ipython",
    "version": 3
   },
   "file_extension": ".py",
   "mimetype": "text/x-python",
   "name": "python",
   "nbconvert_exporter": "python",
   "pygments_lexer": "ipython3",
   "version": "3.9.13"
  }
 },
 "nbformat": 4,
 "nbformat_minor": 5
}
